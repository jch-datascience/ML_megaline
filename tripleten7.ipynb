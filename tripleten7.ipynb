{
  "cells": [
    {
      "cell_type": "markdown",
      "metadata": {
        "id": "GL0sSzToYB3I"
      },
      "source": [
        "### Tabla de Contenidos\n",
        "**Objetivos:**\n",
        "- 1. Abrir y examinar el archivo de datos.\n",
        "- 2. Segmentar los datos fuente en un conjunto de entrenamiento, uno de validación y uno de prueba.\n",
        "- 3. Investigar la calidad de diferentes modelos cambiando los hiperparámetros. Describir brevemente los hallazgos del estudio.\n",
        "- 4. Comprobar la calidad del modelo usando el conjunto de prueba.\n",
        "- 5. Realizar prueba de cordura al modelo.\n",
        "- 6. Conclusión general"
      ]
    },
    {
      "cell_type": "markdown",
      "metadata": {
        "id": "NwqeMTP8YB3J"
      },
      "source": [
        "## Abrir y examinar el archivo de datos"
      ]
    },
    {
      "cell_type": "code",
      "execution_count": null,
      "metadata": {
        "id": "cpjinjTVYB3K"
      },
      "outputs": [],
      "source": [
        "# importamos las librerías necesarias\n",
        "import pandas as pd\n",
        "import numpy as np\n",
        "from sklearn.model_selection import train_test_split\n",
        "from sklearn.metrics import accuracy_score\n",
        "from sklearn.ensemble import RandomForestClassifier\n",
        "from sklearn.linear_model import LogisticRegression"
      ]
    },
    {
      "cell_type": "code",
      "execution_count": null,
      "metadata": {
        "id": "_KLb7ObgYB3L"
      },
      "outputs": [],
      "source": [
        "# Cargamos el DataFrame\n",
        "df = pd.read_csv(\"/datasets/users_behavior.csv\")"
      ]
    },
    {
      "cell_type": "code",
      "execution_count": null,
      "metadata": {
        "id": "vFlbEWFoYB3M",
        "outputId": "f467e8d8-7ce9-4bc4-fa89-3e869d74685b"
      },
      "outputs": [
        {
          "data": {
            "text/html": [
              "<div>\n",
              "<style scoped>\n",
              "    .dataframe tbody tr th:only-of-type {\n",
              "        vertical-align: middle;\n",
              "    }\n",
              "\n",
              "    .dataframe tbody tr th {\n",
              "        vertical-align: top;\n",
              "    }\n",
              "\n",
              "    .dataframe thead th {\n",
              "        text-align: right;\n",
              "    }\n",
              "</style>\n",
              "<table border=\"1\" class=\"dataframe\">\n",
              "  <thead>\n",
              "    <tr style=\"text-align: right;\">\n",
              "      <th></th>\n",
              "      <th>calls</th>\n",
              "      <th>minutes</th>\n",
              "      <th>messages</th>\n",
              "      <th>mb_used</th>\n",
              "      <th>is_ultra</th>\n",
              "    </tr>\n",
              "  </thead>\n",
              "  <tbody>\n",
              "    <tr>\n",
              "      <th>0</th>\n",
              "      <td>40.0</td>\n",
              "      <td>311.90</td>\n",
              "      <td>83.0</td>\n",
              "      <td>19915.42</td>\n",
              "      <td>0</td>\n",
              "    </tr>\n",
              "    <tr>\n",
              "      <th>1</th>\n",
              "      <td>85.0</td>\n",
              "      <td>516.75</td>\n",
              "      <td>56.0</td>\n",
              "      <td>22696.96</td>\n",
              "      <td>0</td>\n",
              "    </tr>\n",
              "    <tr>\n",
              "      <th>2</th>\n",
              "      <td>77.0</td>\n",
              "      <td>467.66</td>\n",
              "      <td>86.0</td>\n",
              "      <td>21060.45</td>\n",
              "      <td>0</td>\n",
              "    </tr>\n",
              "    <tr>\n",
              "      <th>3</th>\n",
              "      <td>106.0</td>\n",
              "      <td>745.53</td>\n",
              "      <td>81.0</td>\n",
              "      <td>8437.39</td>\n",
              "      <td>1</td>\n",
              "    </tr>\n",
              "    <tr>\n",
              "      <th>4</th>\n",
              "      <td>66.0</td>\n",
              "      <td>418.74</td>\n",
              "      <td>1.0</td>\n",
              "      <td>14502.75</td>\n",
              "      <td>0</td>\n",
              "    </tr>\n",
              "    <tr>\n",
              "      <th>5</th>\n",
              "      <td>58.0</td>\n",
              "      <td>344.56</td>\n",
              "      <td>21.0</td>\n",
              "      <td>15823.37</td>\n",
              "      <td>0</td>\n",
              "    </tr>\n",
              "    <tr>\n",
              "      <th>6</th>\n",
              "      <td>57.0</td>\n",
              "      <td>431.64</td>\n",
              "      <td>20.0</td>\n",
              "      <td>3738.90</td>\n",
              "      <td>1</td>\n",
              "    </tr>\n",
              "    <tr>\n",
              "      <th>7</th>\n",
              "      <td>15.0</td>\n",
              "      <td>132.40</td>\n",
              "      <td>6.0</td>\n",
              "      <td>21911.60</td>\n",
              "      <td>0</td>\n",
              "    </tr>\n",
              "    <tr>\n",
              "      <th>8</th>\n",
              "      <td>7.0</td>\n",
              "      <td>43.39</td>\n",
              "      <td>3.0</td>\n",
              "      <td>2538.67</td>\n",
              "      <td>1</td>\n",
              "    </tr>\n",
              "    <tr>\n",
              "      <th>9</th>\n",
              "      <td>90.0</td>\n",
              "      <td>665.41</td>\n",
              "      <td>38.0</td>\n",
              "      <td>17358.61</td>\n",
              "      <td>0</td>\n",
              "    </tr>\n",
              "  </tbody>\n",
              "</table>\n",
              "</div>"
            ],
            "text/plain": [
              "   calls  minutes  messages   mb_used  is_ultra\n",
              "0   40.0   311.90      83.0  19915.42         0\n",
              "1   85.0   516.75      56.0  22696.96         0\n",
              "2   77.0   467.66      86.0  21060.45         0\n",
              "3  106.0   745.53      81.0   8437.39         1\n",
              "4   66.0   418.74       1.0  14502.75         0\n",
              "5   58.0   344.56      21.0  15823.37         0\n",
              "6   57.0   431.64      20.0   3738.90         1\n",
              "7   15.0   132.40       6.0  21911.60         0\n",
              "8    7.0    43.39       3.0   2538.67         1\n",
              "9   90.0   665.41      38.0  17358.61         0"
            ]
          },
          "execution_count": 3,
          "metadata": {},
          "output_type": "execute_result"
        }
      ],
      "source": [
        "# Visualizamos el DataFrame\n",
        "df.head(10)"
      ]
    },
    {
      "cell_type": "code",
      "execution_count": null,
      "metadata": {
        "scrolled": true,
        "id": "HqSEohF_YB3N",
        "outputId": "75baf64d-9938-4064-e093-b30c82e9d831"
      },
      "outputs": [
        {
          "name": "stdout",
          "output_type": "stream",
          "text": [
            "<class 'pandas.core.frame.DataFrame'>\n",
            "RangeIndex: 3214 entries, 0 to 3213\n",
            "Data columns (total 5 columns):\n",
            " #   Column    Non-Null Count  Dtype  \n",
            "---  ------    --------------  -----  \n",
            " 0   calls     3214 non-null   float64\n",
            " 1   minutes   3214 non-null   float64\n",
            " 2   messages  3214 non-null   float64\n",
            " 3   mb_used   3214 non-null   float64\n",
            " 4   is_ultra  3214 non-null   int64  \n",
            "dtypes: float64(4), int64(1)\n",
            "memory usage: 125.7 KB\n",
            "None\n",
            "\n",
            "(3214, 5)\n"
          ]
        }
      ],
      "source": [
        "# Revisamos su información general\n",
        "print(df.info())\n",
        "print()\n",
        "print(df.shape)"
      ]
    },
    {
      "cell_type": "markdown",
      "metadata": {
        "id": "inqNImImYB3N"
      },
      "source": [
        "En este caso nuestro *target* sería la columna **is_ultra**. Las demás filas son los *features*. Por otra parte, este DataFrame consta de 3214 muestras."
      ]
    },
    {
      "cell_type": "markdown",
      "metadata": {
        "id": "Vo1r-HAlYB3O"
      },
      "source": [
        "## Segmentar los datos fuente en un conjunto de entrenamiento, uno de validación y uno de prueba"
      ]
    },
    {
      "cell_type": "markdown",
      "metadata": {
        "id": "3jKGmtM_YB3O"
      },
      "source": [
        "Primero separamos los *features* y el *target*."
      ]
    },
    {
      "cell_type": "code",
      "execution_count": null,
      "metadata": {
        "id": "ThLLf6WvYB3O"
      },
      "outputs": [],
      "source": [
        "# target\n",
        "target_col = \"is_ultra\"\n",
        "\n",
        "# features matrix\n",
        "feature_cols = df.drop(columns=[\"is_ultra\"]).columns.values\n"
      ]
    },
    {
      "cell_type": "markdown",
      "metadata": {
        "id": "ZjbnDtC2YB3P"
      },
      "source": [
        "Ahora dividiremos el conjunto de datos en conjunto de entrenamiento (60%), conjunto de prueba (20%) y de validación (20%)."
      ]
    },
    {
      "cell_type": "code",
      "execution_count": null,
      "metadata": {
        "id": "0Zzvh_ExYB3P"
      },
      "outputs": [],
      "source": [
        "# dividimos el conjunto de entrenamiento (60%), prueba (20%) y validación (20%)\n",
        "\n",
        "## fijamos semilla aleatoria\n",
        "random_seed = 200\n",
        "\n",
        "## segmentamos el conjunto principal y conjunto de prueba\n",
        "x_train, x_test, y_train, y_test = train_test_split(df[feature_cols],\n",
        "                                                    df[target_col],\n",
        "                                                    test_size = 0.2,\n",
        "                                                    random_state=random_seed)\n",
        "\n",
        "## segmentamos el conjunto de entrenamiento y el conjunto de validación\n",
        "x_rtrain, x_valid, y_rtrain, y_valid = train_test_split(x_train,\n",
        "                                                        y_train,\n",
        "                                                        test_size = 0.25,\n",
        "                                                        random_state=random_seed+1)"
      ]
    },
    {
      "cell_type": "code",
      "execution_count": null,
      "metadata": {
        "scrolled": true,
        "id": "P7yTtMilYB3P",
        "outputId": "edb4342b-c1be-49f2-bdf4-d832958b436a"
      },
      "outputs": [
        {
          "name": "stdout",
          "output_type": "stream",
          "text": [
            "(1928, 4)\n",
            "(643, 4)\n",
            "(2571, 4)\n",
            "(643, 4)\n"
          ]
        }
      ],
      "source": [
        "# Revisamos las proporciones\n",
        "for i in [x_rtrain, x_valid, x_train, x_test]:\n",
        "  print(i.shape)"
      ]
    },
    {
      "cell_type": "markdown",
      "metadata": {
        "id": "D05nfKLUYB3P"
      },
      "source": [
        "## Investigar la calidad de diferentes modelos cambiando los hiperparámetros. Describir brevemente los hallazgos del estudio"
      ]
    },
    {
      "cell_type": "markdown",
      "metadata": {
        "id": "tUfKHq4lYB3Q"
      },
      "source": [
        "Para este estudio examinaremos la calidad de lo modelos *Random Forest* y *Logictic Regression*"
      ]
    },
    {
      "cell_type": "markdown",
      "metadata": {
        "id": "JSAvl6SlYB3Q"
      },
      "source": [
        "<div class=\"alert alert-block alert-info\">\n",
        "<b>Respuesta del estudiante:</b> Entendido! <a class=\"tocSkip\"></a>\n",
        "</div>"
      ]
    },
    {
      "cell_type": "markdown",
      "metadata": {
        "id": "pesp6T7aYB3Q"
      },
      "source": [
        "### Comenzaremos con Random Forest.\n",
        "\n",
        "Entrenaremos el modelo con distintos hiperparámetros para saber cuál da el *accuracy score* mayor."
      ]
    },
    {
      "cell_type": "code",
      "execution_count": null,
      "metadata": {
        "scrolled": false,
        "id": "8YAAtylAYB3Q",
        "outputId": "e19d81d5-a1f5-415d-eafa-bb563c216802"
      },
      "outputs": [
        {
          "name": "stdout",
          "output_type": "stream",
          "text": [
            "Best max depth: 1\n",
            "Best n estimators: 1\n",
            "Best accuracy score: 0.7418\n",
            "\n",
            "Best max depth: 1\n",
            "Best n estimators: 2\n",
            "Best accuracy score: 0.7574\n",
            "\n",
            "Best max depth: 1\n",
            "Best n estimators: 3\n",
            "Best accuracy score: 0.7605\n",
            "\n",
            "Best max depth: 1\n",
            "Best n estimators: 4\n",
            "Best accuracy score: 0.7869\n",
            "\n",
            "Best max depth: 2\n",
            "Best n estimators: 2\n",
            "Best accuracy score: 0.7916\n",
            "\n",
            "Best max depth: 2\n",
            "Best n estimators: 25\n",
            "Best accuracy score: 0.7978\n",
            "\n",
            "Best max depth: 5\n",
            "Best n estimators: 1\n",
            "Best accuracy score: 0.804\n",
            "\n",
            "Best max depth: 5\n",
            "Best n estimators: 25\n",
            "Best accuracy score: 0.8056\n",
            "\n",
            "Best max depth: 7\n",
            "Best n estimators: 5\n",
            "Best accuracy score: 0.8134\n",
            "\n",
            "Best max depth: 7\n",
            "Best n estimators: 10\n",
            "Best accuracy score: 0.8212\n",
            "\n",
            "Best max depth: 9\n",
            "Best n estimators: 25\n",
            "Best accuracy score: 0.8243\n",
            "\n"
          ]
        }
      ],
      "source": [
        "random_seed = 200\n",
        "i = -1\n",
        "best_accuracy_score = 0\n",
        "best_max_depth = 0\n",
        "best_n_estimators = 0\n",
        "\n",
        "for max_depth in [1, 2, 3, 5, 6, 7, 8, 9]:\n",
        "  for n_estimators in [1, 2, 3, 4, 5, 10, 20, 25]:\n",
        "    i += 1\n",
        "    model = RandomForestClassifier(random_state=random_seed + i,\n",
        "                                   n_estimators=n_estimators,\n",
        "                                   max_depth=max_depth)\n",
        "    model.fit(x_rtrain, y_rtrain)\n",
        "    predictions = model.predict(x_valid)\n",
        "    accuracy_ = accuracy_score(y_valid, predictions)\n",
        "\n",
        "\n",
        "    if accuracy_ > best_accuracy_score:\n",
        "      best_max_depth = max_depth\n",
        "      best_n_estimators = n_estimators\n",
        "      best_accuracy_score = accuracy_\n",
        "\n",
        "      print(f\"Best max depth: {best_max_depth}\")\n",
        "      print(f\"Best n estimators: {best_n_estimators}\")\n",
        "      print(f\"Best accuracy score: {round(best_accuracy_score, 4)}\")\n",
        "      print()\n"
      ]
    },
    {
      "cell_type": "markdown",
      "metadata": {
        "id": "QxOjMpA6YB3Q"
      },
      "source": [
        "En este caso la mejor configuración es n_estimators=25, max_depth=9, con una presición de acierto de 82,43% en el conjunto de validación."
      ]
    },
    {
      "cell_type": "markdown",
      "metadata": {
        "id": "fUKAuspyYB3S"
      },
      "source": [
        "### Seguimos con LogisticRegression"
      ]
    },
    {
      "cell_type": "code",
      "execution_count": null,
      "metadata": {
        "id": "VuhH8PKlYB3S",
        "outputId": "7428473e-9944-45bd-9285-277dd58659ad"
      },
      "outputs": [
        {
          "name": "stdout",
          "output_type": "stream",
          "text": [
            "Best accuracy score: 0.7465\n"
          ]
        }
      ],
      "source": [
        "# Entrenamos nuestro modelo probando hiperparámetros hasta alcanzar el mayor *Accuracy_score*\n",
        "random_seeds=123\n",
        "lr_model = LogisticRegression(random_state=random_seeds)\n",
        "lr_model.fit(x_rtrain, y_rtrain)\n",
        "predictions1 = lr_model.predict(x_valid)\n",
        "accuracy1 = accuracy_score(y_valid, predictions1)\n",
        "print(f\"Best accuracy score: {round(accuracy1, 4)}\")"
      ]
    },
    {
      "cell_type": "markdown",
      "metadata": {
        "id": "qIFPg1ETYB3S"
      },
      "source": [
        "En este caso probamos varios hiperparámetros que solo bajaban la precisión del modelo, de este modo dejamos los parámetros en default (a excepción de 'random_state'), obteniendo un 74% de precisión."
      ]
    },
    {
      "cell_type": "markdown",
      "metadata": {
        "id": "8jsMTq-WYB3T"
      },
      "source": [
        "## Comprobar la calidad del modelo usando el conjunto de prueba\n",
        "Ahora usaremos nuestro objeto estimator para predecir sobre las observaciones que el modelo NO vio durante el entrenamiento.\n",
        "### Calidad modelo RandomForestClassifier"
      ]
    },
    {
      "cell_type": "code",
      "execution_count": null,
      "metadata": {
        "scrolled": true,
        "id": "joGh_tp8YB3T",
        "outputId": "d1c61057-4530-4bbb-f5c6-e3ecbb258a7f"
      },
      "outputs": [
        {
          "name": "stdout",
          "output_type": "stream",
          "text": [
            "Valid accuracy score: 0.8243\n",
            "\n",
            "Test accuracy score: 0.7434\n"
          ]
        }
      ],
      "source": [
        "random_seed = 42\n",
        "\n",
        "final_model = RandomForestClassifier(random_state=random_seed,\n",
        "                                   n_estimators=best_n_estimators,\n",
        "                                   max_depth=best_max_depth)\n",
        "final_model.fit(x_train, y_train)\n",
        "#test_preds = final_model.predict(x_test)\n",
        "test_preds = (final_model.predict_proba(x_test)[:,1] > 0.90).astype(\"int\")\n",
        "\n",
        "test_accuracy_ = accuracy_score(y_test, test_preds)\n",
        "\n",
        "print(f\"Valid accuracy score: {round(best_accuracy_score, 4)}\")\n",
        "print()\n",
        "print(f\"Test accuracy score: {round(test_accuracy_, 4)}\")"
      ]
    },
    {
      "cell_type": "markdown",
      "metadata": {
        "id": "pN-ytDnjYB3T"
      },
      "source": [
        "Como se puede observar, el desempeño del modelo en el conjunto de prueba ha bajado a un 74%. Esto puede deberse a un sobreajuste."
      ]
    },
    {
      "cell_type": "markdown",
      "metadata": {
        "id": "UPMeG4p2YB3T"
      },
      "source": [
        "### Calidad modelo LogisticRegression"
      ]
    },
    {
      "cell_type": "code",
      "execution_count": null,
      "metadata": {
        "id": "3QhVsHUpYB3U",
        "outputId": "a6368d62-1cb6-44d5-ad36-1eda8b67008b"
      },
      "outputs": [
        {
          "name": "stdout",
          "output_type": "stream",
          "text": [
            "Valid accuracy score: 0.7465\n",
            "\n",
            "Test accuracy score: 0.6827\n"
          ]
        }
      ],
      "source": [
        "random_seed = 42\n",
        "\n",
        "final_model1 = lr_model = LogisticRegression(random_state=random_seeds)\n",
        "\n",
        "final_model1.fit(x_train, y_train)\n",
        "test_preds1 = final_model1.predict(x_test)\n",
        "#test_preds1 = (final_model1.predict_proba(x_test)[:,1] > 0.90).astype(\"int\")\n",
        "\n",
        "test_accuracy_1 = accuracy_score(y_test, test_preds1)\n",
        "\n",
        "print(f\"Valid accuracy score: {round(accuracy1, 4)}\")\n",
        "print()\n",
        "print(f\"Test accuracy score: {round(test_accuracy_1, 4)}\")"
      ]
    },
    {
      "cell_type": "markdown",
      "metadata": {
        "id": "eXGBqe6bYB3U"
      },
      "source": [
        "En este caso el desempeño en el conjunto de prueba bajó a un 68%"
      ]
    },
    {
      "cell_type": "markdown",
      "metadata": {
        "id": "9hO5ODoxYB3U"
      },
      "source": [
        "## Realizar prueba de cordura a los modelos"
      ]
    },
    {
      "cell_type": "code",
      "execution_count": null,
      "metadata": {
        "id": "HIs5Ex5IYB3V",
        "outputId": "2cb250ac-ae0e-4eaf-c388-b8067faf9c59"
      },
      "outputs": [
        {
          "name": "stdout",
          "output_type": "stream",
          "text": [
            "Test accuracy score RandomForestClassifier: 0.7434\n",
            "\n",
            "Test accuracy score LogisticRegression: 0.6827\n",
            "\n",
            "All 0 preds accuracy score: 0.675\n",
            "\n",
            "All 1 preds accuracy score: 0.325\n",
            "\n",
            "Random preds accuracy score: 0.4386\n"
          ]
        }
      ],
      "source": [
        "np.random.seed(42)\n",
        "\n",
        "sanity_check_1_preds = [0] * len(y_test)\n",
        "sanity_check_2_preds = [1] * len(y_test)\n",
        "sanity_check_3_preds = np.random.choice([0, 1], size=len(y_test))\n",
        "\n",
        "print(f\"Test accuracy score RandomForestClassifier: {round(test_accuracy_, 4)}\")\n",
        "print()\n",
        "print(f\"Test accuracy score LogisticRegression: {round(test_accuracy_1, 4)}\")\n",
        "print()\n",
        "print(f\"All 0 preds accuracy score: {round(accuracy_score(y_test, sanity_check_1_preds), 4)}\")\n",
        "print()\n",
        "print(f\"All 1 preds accuracy score: {round(accuracy_score(y_test, sanity_check_2_preds), 4)}\")\n",
        "print()\n",
        "print(f\"Random preds accuracy score: {round(accuracy_score(y_test, sanity_check_3_preds), 4)}\")"
      ]
    },
    {
      "cell_type": "code",
      "execution_count": null,
      "metadata": {
        "id": "_Jx7Yv8EYB3V",
        "outputId": "87cba322-f254-43f9-91cc-8f0050430a4f"
      },
      "outputs": [
        {
          "data": {
            "text/plain": [
              "0.30647168637212197"
            ]
          },
          "execution_count": 13,
          "metadata": {},
          "output_type": "execute_result"
        }
      ],
      "source": [
        "#Revisamos el balance de target\n",
        "df.is_ultra.mean()"
      ]
    },
    {
      "cell_type": "markdown",
      "metadata": {
        "id": "UGDKIjqVYB3V"
      },
      "source": [
        "El 30% de los datos son 1, esto significa un desequilibrio en las clases. Cuando existe un desequilibrio de clases el Sanity Check no es la métrica más adecuada para evaluar el rendimiento del modelo."
      ]
    },
    {
      "cell_type": "markdown",
      "metadata": {
        "id": "-0DjjjbOYB3b"
      },
      "source": [
        "## Conclusión general"
      ]
    },
    {
      "cell_type": "markdown",
      "metadata": {
        "id": "ClsC5YW8YB3c"
      },
      "source": [
        "1.- En este estudio:\n",
        " - Examinamos los archivos con la siguiente dirección: \"datasets/users_behavior.csv\".\n",
        " - Segmentamos los datos fuente en un conjunto de entrenamiento, uno de validación y uno de prueba.\n",
        " - Investigamos la calidad de los modelos RandomForestClassifier y LogisticRegression\n",
        " - Comprobamos la calidad de los modelos usando el conjunto de prueba.\n",
        " - Finalmente realizamos una prueba de cordura a los modelos.\n",
        "\n",
        "2.- Al ajustar los hiperparámetros de ambos modelos obtuvimos los siguientes resultados:\n",
        " - **RandomForestClassifier**\n",
        "  - Accuracy score: 0.8243\n",
        "  - Con los hiperparámetros: n_estimators=25, max_depth=9\n",
        "\n",
        "\n",
        " - **LogisticRegression**\n",
        "  - Accuracy score: 0.7465\n",
        "  - En este caso solo se modificó el hiperparámetro random_state. Al cambiar los otros solo bajaba la calidad del modelo.\n",
        "  \n",
        "3.- Al comprobar la calidad de los modelos usando el conjunto de prueba obtuvimos los siguientes resultados:\n",
        "   - Para **RandomForestClassifier** la precisión del modelo bajó de un 82% a un 74%.\n",
        "   - Para **LogisticRegression** la precisión del modelo bajó de un 74% a un 68%.\n",
        "   - Esto probablemente se debe a que los modelos están sobreajustados.\n",
        "\n",
        "4.- Además realizamos una prueba de cordura, pero encontramos un desequilibrio en las clases por lo que esta métrica no es adecuada para evaluar el rendimiento de este modelo.\n"
      ]
    },
    {
      "cell_type": "markdown",
      "metadata": {
        "id": "r4CUxRtsYB3d"
      },
      "source": [
        "<div class=\"alert alert-block alert-success\">\n",
        "    \n",
        "# Comentarios generales\n",
        "<b>Comentario del revisor</b> <a class=\"tocSkip\"></a>\n",
        "    \n",
        "Buen trabajo, Jesús. Todo ha sido corregido y has aprobado un nuevo proyecto. ¡Felicitaciones!\n",
        "</div>"
      ]
    }
  ],
  "metadata": {
    "kernelspec": {
      "display_name": "Python 3 (ipykernel)",
      "language": "python",
      "name": "python3"
    },
    "language_info": {
      "codemirror_mode": {
        "name": "ipython",
        "version": 3
      },
      "file_extension": ".py",
      "mimetype": "text/x-python",
      "name": "python",
      "nbconvert_exporter": "python",
      "pygments_lexer": "ipython3",
      "version": "3.9.5"
    },
    "toc": {
      "base_numbering": 1,
      "nav_menu": {},
      "number_sections": true,
      "sideBar": true,
      "skip_h1_title": true,
      "title_cell": "Table of Contents",
      "title_sidebar": "Contents",
      "toc_cell": false,
      "toc_position": {},
      "toc_section_display": true,
      "toc_window_display": false
    },
    "colab": {
      "provenance": []
    }
  },
  "nbformat": 4,
  "nbformat_minor": 0
}